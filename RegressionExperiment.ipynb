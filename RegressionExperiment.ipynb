{
 "cells": [
  {
   "cell_type": "code",
   "execution_count": 7,
   "metadata": {},
   "outputs": [
    {
     "data": {
      "image/png": "[encoded data removed]",
      "text/plain": [
       "<matplotlib.figure.Figure at 0x203cd449390>"
      ]
     },
     "metadata": {},
     "output_type": "display_data"
    }
   ],
   "source": [
    "# write your code here\n",
    "from sklearn.datasets import load_svmlight_file\n",
    "from sklearn.model_selection import train_test_split\n",
    "import matplotlib.pyplot as plt \n",
    "import numpy as np\n",
    "\n",
    "# 加载数据\n",
    "data = load_svmlight_file(f=r\"E:\\machine learning\\lab1\\house\")\n",
    "\n",
    "# 将数据中的特征和标签分开\n",
    "n_x = data[0]\n",
    "n_y = data[1]\n",
    "\n",
    "# 分割测试集，验证集\n",
    "X_train, X_test, y_train, y_test = train_test_split(n_x, n_y, test_size=0.2)\n",
    "\n",
    "# 初始化参数\n",
    "w = np.random.normal(size=(13))\n",
    "b = np.random.normal(size=(1))\n",
    "y_ = np.zeros(1)\n",
    "loss = np.zeros(1)\n",
    "learning_rate = 0.001\n",
    "epoch = 1000\n",
    "\n",
    "# 记录loss随迭代次数的值\n",
    "losses = []\n",
    "\n",
    "# 记录验证集的loss随迭代次数的值\n",
    "val_losses = []\n",
    "\n",
    "# 验证\n",
    "def validation(X_test, y_test, w, b):\n",
    "    loss = 0\n",
    "    for i in range(X_test.shape[0]):\n",
    "        y_ = np.dot(X_test[i].data, w) + b\n",
    "        loss += (y_test[i] - y_) * (y_test[i] - y_) * 0.5\n",
    "    return loss/X_test.shape[0]\n",
    "    \n",
    "for num in range(epoch):\n",
    "    # loss_function 对w，b的偏导\n",
    "    G_w = 0\n",
    "    G_b = 0\n",
    "    \n",
    "    # sigma求和\n",
    "    for i in range(X_train.shape[0]):\n",
    "        y_ = np.dot(X_train[i].data, w) + b\n",
    "        loss += (y_train[i] - y_) * (y_train[i] - y_) * 0.5\n",
    "        G_w += (y_train[i] - y_) * (-X_train[i].data)\n",
    "        G_b += y_ - y_train[i]\n",
    "        \n",
    "    # loss_function，偏导的平均数\n",
    "    loss /= X_train.shape[0]\n",
    "    G_w /= X_train.shape[0]\n",
    "    G_b /= X_train.shape[0]\n",
    "    \n",
    "    # 更新参数\n",
    "    w = w - learning_rate * G_w\n",
    "    b = b - learning_rate * G_b\n",
    "    \n",
    "    # print(loss[0])\n",
    "    # 验证\n",
    "    val_loss = validation(X_test, y_test, w, b)\n",
    "    \n",
    "    # 将loss加入列表\n",
    "    losses.append(loss[0])\n",
    "    val_losses.append(val_loss[0])\n",
    "    \n",
    "# loss随迭代次数的变化图\n",
    "plt.plot(range(epoch), losses, label=\"loss\", color='red')  \n",
    "plt.plot(range(epoch), val_losses, label=\"val_loss\", color='blue')  \n",
    "plt.xlabel(\"epochs\")  \n",
    "plt.ylabel('loss')  \n",
    "plt.legend()\n",
    "plt.show()\n"
   ]
  },
  {
   "cell_type": "code",
   "execution_count": null,
   "metadata": {},
   "outputs": [],
   "source": []
  }
 ],
 "metadata": {
  "kernelspec": {
   "display_name": "Python 3",
   "language": "python",
   "name": "python3"
  },
  "language_info": {
   "codemirror_mode": {
    "name": "ipython",
    "version": 3
   },
   "file_extension": ".py",
   "mimetype": "text/x-python",
   "name": "python",
   "nbconvert_exporter": "python",
   "pygments_lexer": "ipython3",
   "version": "3.5.3"
  }
 },
 "nbformat": 4,
 "nbformat_minor": 2
}
